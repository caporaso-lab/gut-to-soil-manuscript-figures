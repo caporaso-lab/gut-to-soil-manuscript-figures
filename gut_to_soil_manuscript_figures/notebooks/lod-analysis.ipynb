{
 "cells": [
  {
   "cell_type": "code",
   "execution_count": 1,
   "metadata": {},
   "outputs": [],
   "source": [
    "import pandas as pd\n",
    "import numpy as np\n",
    "import re"
   ]
  },
  {
   "cell_type": "code",
   "execution_count": 2,
   "metadata": {},
   "outputs": [],
   "source": [
    "# PARSE QPCR DATA, which exist in multiple sheets\n",
    "\n",
    "# NOTE: change me\n",
    "ecoli_cperf_fp = ''\n",
    "\n",
    "sheets = pd.read_excel(ecoli_cperf_fp, sheet_name=None)\n",
    "df = pd.DataFrame()\n",
    "for sheet_name, sheet in sheets.items():\n",
    "    df = pd.concat([df, sheet], axis=0)\n",
    "\n",
    "df['Sample Name'] = df['Sample Name'].astype(str)\n"
   ]
  },
  {
   "cell_type": "code",
   "execution_count": 3,
   "metadata": {},
   "outputs": [],
   "source": [
    "df = df[['Target Name', 'Sample Name', 'CT', 'Ct Mean', 'Quantity', 'Quantity Mean', 'Quantity SD']]\n",
    "\n",
    "# include only standards\n",
    "df = df[df['Sample Name'].str.contains('Gblock')]\n",
    "\n",
    "# split concentration from sample name\n",
    "df[['sample-name', 'concentration']] = df['Sample Name'].str.split('CTL', expand=True)"
   ]
  },
  {
   "cell_type": "code",
   "execution_count": 4,
   "metadata": {},
   "outputs": [],
   "source": [
    "# extract standard concentrations from cells\n",
    "\n",
    "# 3.041 or 3.041E1, 3.041E2, etc.\n",
    "conc_pattern = re.compile(r'3\\.041(E[0-9])?')\n",
    "\n",
    "def parse_conc(row):\n",
    "    match = conc_pattern.search(row['Sample Name'])\n",
    "    if not match:\n",
    "        match = conc_pattern.search(row['Target Name'])\n",
    "    if not match:\n",
    "        raise ValueError('concentration not found')\n",
    "\n",
    "    row['Concentration'] = match.group()\n",
    "\n",
    "    return row\n",
    "\n",
    "df = df.apply(parse_conc, axis=1)"
   ]
  },
  {
   "cell_type": "code",
   "execution_count": 5,
   "metadata": {},
   "outputs": [
    {
     "name": "stdout",
     "output_type": "stream",
     "text": [
      "3.041      0.558824\n",
      "3.041E1    1.000000\n",
      "3.041E2    1.000000\n",
      "3.041E3    1.000000\n",
      "3.041E4    1.000000\n",
      "3.041E5    1.000000\n",
      "3.041E6    1.000000\n",
      "3.041E7    0.985294\n",
      "dtype: float64\n"
     ]
    }
   ],
   "source": [
    "# calculate proportion amplified per standard concentration\n",
    "conc_grouped = df.groupby('Concentration')\n",
    "proportions = pd.Series()\n",
    "for conc, g_df in conc_grouped:\n",
    "    counts = g_df['CT'].value_counts(dropna=False)\n",
    "    assert np.nan not in counts\n",
    "\n",
    "    if 'Undetermined' in counts:\n",
    "        undetermined = counts['Undetermined']\n",
    "    else:\n",
    "        undetermined = 0\n",
    "\n",
    "    proportions[conc] = 1 - ( undetermined / counts.sum() )\n",
    "\n",
    "print(proportions)\n",
    "\n",
    "\n",
    "# IMPORTANT: The limit of detection (LOD) is between 30.41 and 3.041 copies.\n",
    "#            We can detect 30.41 copies with 100% confidence, and\n",
    "#            3.041 copies with ~55% confidence. The number of copies which\n",
    "#            we can detect with 95% confidence (LOD definition) thus lies\n",
    "#            between these two values.\n",
    "#\n",
    "#            Separately, the limit of quantification (LOQ) was determined\n",
    "#            by Nate Stone and Megan Ruby to be 304.1 copies."
   ]
  },
  {
   "cell_type": "code",
   "execution_count": null,
   "metadata": {},
   "outputs": [],
   "source": []
  },
  {
   "cell_type": "code",
   "execution_count": null,
   "metadata": {},
   "outputs": [],
   "source": []
  }
 ],
 "metadata": {
  "kernelspec": {
   "display_name": "Python 3 (ipykernel)",
   "language": "python",
   "name": "python3"
  },
  "language_info": {
   "codemirror_mode": {
    "name": "ipython",
    "version": 3
   },
   "file_extension": ".py",
   "mimetype": "text/x-python",
   "name": "python",
   "nbconvert_exporter": "python",
   "pygments_lexer": "ipython3",
   "version": "3.10.14"
  }
 },
 "nbformat": 4,
 "nbformat_minor": 2
}
